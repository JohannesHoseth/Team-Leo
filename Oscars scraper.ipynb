{
 "cells": [
  {
   "cell_type": "code",
   "execution_count": 1,
   "metadata": {},
   "outputs": [],
   "source": [
    "import requests\n",
    "import pandas as pd\n",
    "import numpy as np\n",
    "import matplotlib.pyplot as plt\n",
    "import scraping_class\n",
    "from matplotlib.dates import DateFormatter\n",
    "import seaborn as sns\n",
    "from bs4 import BeautifulSoup"
   ]
  },
  {
   "cell_type": "code",
   "execution_count": 2,
   "metadata": {},
   "outputs": [],
   "source": [
    "plt.style.use('ggplot')\n",
    "%matplotlib inline\n",
    "\n",
    "SMALL_SIZE = 16\n",
    "MEDIUM_SIZE = 18\n",
    "BIGGER_SIZE = 20\n",
    "\n",
    "plt.rc('font', size=SMALL_SIZE)          # controls default text sizes\n",
    "plt.rc('axes', titlesize=SMALL_SIZE)     # fontsize of the axes title\n",
    "plt.rc('axes', labelsize=MEDIUM_SIZE)    # fontsize of the x and y labels\n",
    "plt.rc('xtick', labelsize=SMALL_SIZE)    # fontsize of the tick labels\n",
    "plt.rc('ytick', labelsize=SMALL_SIZE)    # fontsize of the tick labels\n",
    "plt.rc('legend', fontsize=SMALL_SIZE)    # legend fontsize\n",
    "plt.rc('figure', titlesize=BIGGER_SIZE)  # fontsize of the figure title"
   ]
  },
  {
   "cell_type": "code",
   "execution_count": 3,
   "metadata": {},
   "outputs": [],
   "source": [
    "logfile = 'oscar_winners_log.csv'\n",
    "connector = scraping_class.Connector(logfile)"
   ]
  },
  {
   "cell_type": "code",
   "execution_count": null,
   "metadata": {
    "scrolled": false
   },
   "outputs": [],
   "source": [
    "\n",
    "movies_data = []\n",
    "\n",
    "#for i in range(1,600,50):\n",
    "for i in range(1,100, 100):\n",
    "#    url_nominees = 'https://www.imdb.com/search/title/?groups=oscar_best_picture_nominees&start=%s&ref_=adv_nxt' % str(i)\n",
    "    url_winners = 'https://www.imdb.com/search/title/?count=100&groups=oscar_best_picture_winners&sort=year,desc&start=%s&ref_=nv_ch_osc' % str(i)\n",
    "\n",
    "#    response, call_id = connector.get(url_nominees, 'get_nominees')\n",
    "    response, call_id = connector.get(url_winners, 'get_winners')\n",
    "    if response.ok:\n",
    "        data = response.text\n",
    "        soup = BeautifulSoup(data, \"lxml\")\n",
    "        movies = soup.find_all('div', attrs={'lister-item-content'})\n",
    "\n",
    "\n",
    "        for movie in movies:\n",
    "            \n",
    "            try:\n",
    "                runtime = movie.find('p', attrs={'text-muted'}).find('span', attrs={'runtime'}).text\n",
    "                runtime = int(runtime.split(' ')[0])\n",
    "                \n",
    "                genre   = movie.find('p', attrs={'text-muted'}).find('span', attrs={'genre'}).text.strip().split(', ')\n",
    "                    \n",
    "                \n",
    "                idx, title, year = movie.find('h3', attrs={'lister-item-header'}).text.strip().split('\\n')\n",
    "                idx = idx.split('.')[0]\n",
    "                link = movie.find('a')\n",
    "                link = str(link).split('href=\"')[1].split('\"')[0]\n",
    "                link  = 'https://www.imdb.com' + link\n",
    "                \n",
    "                try:\n",
    "                    if movie.find_all('span')[-2].text == 'Gross:':\n",
    "                        gross = movie.find_all('span', attrs={'name':'nv'})[-1].text\n",
    "                        gross = float(gross.split('$')[1].split('M')[0])\n",
    "                    else:\n",
    "                        gross = np.nan\n",
    "                except:\n",
    "                    gross = np.nan\n",
    "                \n",
    "                try:\n",
    "                    metascore = movie.find('span', attrs={'metascore'}).text\n",
    "                except:\n",
    "                    metascore = np.nan\n",
    "                    \n",
    "                job = movie.find_all('p')[2].text\n",
    "                \n",
    "                actors = [i.split('\\n')[1] for i in job.split('Stars:')[1].split(',')]\n",
    "                directors = [i.split(',')[0] for i in job.split('Stars:')[0].split('Director')[1].split(':\\n')[1].split('\\n')[:-2]]\n",
    "                links_people = [str(i).split('href=\"')[1].split('\"')[0] for i in movies[0].find_all('p')[2].find_all('a')]\n",
    "                links_people = [\"https://www.imdb.com/\" + i + \"awards\" for i in links_people]\n",
    "                \n",
    "                try:\n",
    "                    year = year.split('(I')[1]\n",
    "                    try:\n",
    "                        year = year.split('I) (')[1].split(')')[0]\n",
    "                    except:\n",
    "                        year = year.split(') (')[1].split(')')[0]\n",
    "                except:\n",
    "                    year = year.split('(')[1].split(')')[0]\n",
    "                    \n",
    "                movies_data.append([idx, title, year, runtime, genre, metascore, gross, link, directors, actors, links_people])\n",
    "                \n",
    "            except:\n",
    "                NameError\n",
    "            \n",
    "    else:\n",
    "        print('Response failed!')\n",
    "        \n",
    "df = pd.DataFrame(movies_data)\n",
    "df.columns = ['index', 'title', 'year', 'runtime_min', 'genre', 'metascore', 'gross_mil', 'link_movie', 'director', 'actors', 'link_people']"
   ]
  },
  {
   "cell_type": "code",
   "execution_count": null,
   "metadata": {},
   "outputs": [],
   "source": [
    "df"
   ]
  },
  {
   "cell_type": "code",
   "execution_count": 271,
   "metadata": {},
   "outputs": [],
   "source": [
    "df.to_csv('oscar_nominees.csv')"
   ]
  },
  {
   "cell_type": "code",
   "execution_count": null,
   "metadata": {},
   "outputs": [],
   "source": []
  }
 ],
 "metadata": {
  "kernelspec": {
   "display_name": "Python 3",
   "language": "python",
   "name": "python3"
  },
  "language_info": {
   "codemirror_mode": {
    "name": "ipython",
    "version": 3
   },
   "file_extension": ".py",
   "mimetype": "text/x-python",
   "name": "python",
   "nbconvert_exporter": "python",
   "pygments_lexer": "ipython3",
   "version": "3.6.3"
  }
 },
 "nbformat": 4,
 "nbformat_minor": 2
}
