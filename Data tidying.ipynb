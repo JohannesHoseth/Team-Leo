{
 "cells": [
  {
   "cell_type": "code",
   "execution_count": 1,
   "metadata": {},
   "outputs": [],
   "source": [
    "import requests\n",
    "import pandas as pd\n",
    "import numpy as np\n",
    "import matplotlib.pyplot as plt\n",
    "import scraping_class\n",
    "from matplotlib.dates import DateFormatter\n",
    "import seaborn as sns\n",
    "from bs4 import BeautifulSoup"
   ]
  },
  {
   "cell_type": "code",
   "execution_count": 2,
   "metadata": {},
   "outputs": [],
   "source": [
    "plt.style.use('ggplot')\n",
    "%matplotlib inline\n",
    "\n",
    "SMALL_SIZE = 16\n",
    "MEDIUM_SIZE = 18\n",
    "BIGGER_SIZE = 20\n",
    "\n",
    "plt.rc('font', size=SMALL_SIZE)          # controls default text sizes\n",
    "plt.rc('axes', titlesize=SMALL_SIZE)     # fontsize of the axes title\n",
    "plt.rc('axes', labelsize=MEDIUM_SIZE)    # fontsize of the x and y labels\n",
    "plt.rc('xtick', labelsize=SMALL_SIZE)    # fontsize of the tick labels\n",
    "plt.rc('ytick', labelsize=SMALL_SIZE)    # fontsize of the tick labels\n",
    "plt.rc('legend', fontsize=SMALL_SIZE)    # legend fontsize\n",
    "plt.rc('figure', titlesize=BIGGER_SIZE)  # fontsize of the figure title"
   ]
  },
  {
   "cell_type": "code",
   "execution_count": 291,
   "metadata": {},
   "outputs": [],
   "source": [
    "nom = pd.read_csv('oscar_nominees.csv', index_col = 'index')\n",
    "win = pd.read_csv('oscar_winners.csv' , index_col = 'index')"
   ]
  },
  {
   "cell_type": "code",
   "execution_count": 292,
   "metadata": {
    "scrolled": false
   },
   "outputs": [],
   "source": [
    "nom = nom.drop(columns = 'Unnamed: 0')\n",
    "win = win.drop(columns = 'Unnamed: 0')"
   ]
  },
  {
   "cell_type": "code",
   "execution_count": 293,
   "metadata": {
    "scrolled": true
   },
   "outputs": [],
   "source": [
    "nom = nom.assign(won_oscar = lambda nom: nom.title.isin(win.title))"
   ]
  },
  {
   "cell_type": "code",
   "execution_count": 321,
   "metadata": {},
   "outputs": [
    {
     "name": "stderr",
     "output_type": "stream",
     "text": [
      "c:\\users\\bijan taheri\\appdata\\local\\programs\\python\\python36-32\\lib\\site-packages\\ipykernel_launcher.py:11: SettingWithCopyWarning: \n",
      "A value is trying to be set on a copy of a slice from a DataFrame\n",
      "\n",
      "See the caveats in the documentation: http://pandas.pydata.org/pandas-docs/stable/indexing.html#indexing-view-versus-copy\n",
      "  # This is added back by InteractiveShellApp.init_path()\n"
     ]
    }
   ],
   "source": [
    "genres = []\n",
    "row = 1\n",
    "\n",
    "for i in nom.genre:\n",
    "    split_1 = i.strip('[ ]')\n",
    "    split_2 = split_1.split(',')\n",
    "    \n",
    "    for j in split_2:\n",
    "        genre = j.strip(\"' '\")\n",
    "        \n",
    "        nom[genre][row] = 1\n",
    "        #if genre not in genres:\n",
    "        #    genres.append(genre)\n",
    "    row += 1\n",
    "        "
   ]
  },
  {
   "cell_type": "code",
   "execution_count": 320,
   "metadata": {},
   "outputs": [],
   "source": [
    "for genre in genres:\n",
    "    nom[genre] = 0"
   ]
  },
  {
   "cell_type": "code",
   "execution_count": 328,
   "metadata": {},
   "outputs": [],
   "source": [
    "nom.fillna(np.nan, inplace = True)"
   ]
  },
  {
   "cell_type": "code",
   "execution_count": 355,
   "metadata": {},
   "outputs": [],
   "source": [
    "logfile = pd.read_csv('.csv', sep=\";\", names=['id','project','connector_type','t','delta_t','url','redirect_url','response_size','response_code','success','error'])"
   ]
  },
  {
   "cell_type": "code",
   "execution_count": 356,
   "metadata": {},
   "outputs": [
    {
     "data": {
      "text/html": [
       "<div>\n",
       "<style scoped>\n",
       "    .dataframe tbody tr th:only-of-type {\n",
       "        vertical-align: middle;\n",
       "    }\n",
       "\n",
       "    .dataframe tbody tr th {\n",
       "        vertical-align: top;\n",
       "    }\n",
       "\n",
       "    .dataframe thead th {\n",
       "        text-align: right;\n",
       "    }\n",
       "</style>\n",
       "<table border=\"1\" class=\"dataframe\">\n",
       "  <thead>\n",
       "    <tr style=\"text-align: right;\">\n",
       "      <th></th>\n",
       "      <th>id</th>\n",
       "      <th>project</th>\n",
       "      <th>connector_type</th>\n",
       "      <th>t</th>\n",
       "      <th>delta_t</th>\n",
       "      <th>url</th>\n",
       "      <th>redirect_url</th>\n",
       "      <th>response_size</th>\n",
       "      <th>response_code</th>\n",
       "      <th>success</th>\n",
       "      <th>error</th>\n",
       "    </tr>\n",
       "  </thead>\n",
       "  <tbody>\n",
       "    <tr>\n",
       "      <th>0</th>\n",
       "      <td>4</td>\n",
       "      <td>awards</td>\n",
       "      <td>requests</td>\n",
       "      <td>1.566586e+09</td>\n",
       "      <td>-0.312296</td>\n",
       "      <td>https://www.imdb.com//name/nm1724319/awards</td>\n",
       "      <td>https://www.imdb.com//name/nm1724319/awards</td>\n",
       "      <td>76195</td>\n",
       "      <td>200</td>\n",
       "      <td>True</td>\n",
       "      <td>NaN</td>\n",
       "    </tr>\n",
       "    <tr>\n",
       "      <th>1</th>\n",
       "      <td>5</td>\n",
       "      <td>awards</td>\n",
       "      <td>requests</td>\n",
       "      <td>1.566586e+09</td>\n",
       "      <td>-0.658835</td>\n",
       "      <td>https://www.imdb.com//name/nm0868219/awards</td>\n",
       "      <td>https://www.imdb.com//name/nm0868219/awards</td>\n",
       "      <td>201005</td>\n",
       "      <td>200</td>\n",
       "      <td>True</td>\n",
       "      <td>NaN</td>\n",
       "    </tr>\n",
       "    <tr>\n",
       "      <th>2</th>\n",
       "      <td>6</td>\n",
       "      <td>awards</td>\n",
       "      <td>requests</td>\n",
       "      <td>1.566586e+09</td>\n",
       "      <td>-0.832530</td>\n",
       "      <td>https://www.imdb.com//name/nm1020089/awards</td>\n",
       "      <td>https://www.imdb.com//name/nm1020089/awards</td>\n",
       "      <td>160675</td>\n",
       "      <td>200</td>\n",
       "      <td>True</td>\n",
       "      <td>NaN</td>\n",
       "    </tr>\n",
       "    <tr>\n",
       "      <th>3</th>\n",
       "      <td>7</td>\n",
       "      <td>awards</td>\n",
       "      <td>requests</td>\n",
       "      <td>1.566586e+09</td>\n",
       "      <td>-0.426235</td>\n",
       "      <td>https://www.imdb.com//name/nm0818055/awards</td>\n",
       "      <td>https://www.imdb.com//name/nm0818055/awards</td>\n",
       "      <td>144616</td>\n",
       "      <td>200</td>\n",
       "      <td>True</td>\n",
       "      <td>NaN</td>\n",
       "    </tr>\n",
       "    <tr>\n",
       "      <th>4</th>\n",
       "      <td>8</td>\n",
       "      <td>awards</td>\n",
       "      <td>requests</td>\n",
       "      <td>1.566586e+09</td>\n",
       "      <td>-0.409202</td>\n",
       "      <td>https://www.imdb.com//name/nm0788335/awards</td>\n",
       "      <td>https://www.imdb.com//name/nm0788335/awards</td>\n",
       "      <td>154067</td>\n",
       "      <td>200</td>\n",
       "      <td>True</td>\n",
       "      <td>NaN</td>\n",
       "    </tr>\n",
       "  </tbody>\n",
       "</table>\n",
       "</div>"
      ],
      "text/plain": [
       "   id project connector_type             t   delta_t  \\\n",
       "0   4  awards       requests  1.566586e+09 -0.312296   \n",
       "1   5  awards       requests  1.566586e+09 -0.658835   \n",
       "2   6  awards       requests  1.566586e+09 -0.832530   \n",
       "3   7  awards       requests  1.566586e+09 -0.426235   \n",
       "4   8  awards       requests  1.566586e+09 -0.409202   \n",
       "\n",
       "                                           url  \\\n",
       "0  https://www.imdb.com//name/nm1724319/awards   \n",
       "1  https://www.imdb.com//name/nm0868219/awards   \n",
       "2  https://www.imdb.com//name/nm1020089/awards   \n",
       "3  https://www.imdb.com//name/nm0818055/awards   \n",
       "4  https://www.imdb.com//name/nm0788335/awards   \n",
       "\n",
       "                                  redirect_url  response_size  response_code  \\\n",
       "0  https://www.imdb.com//name/nm1724319/awards          76195            200   \n",
       "1  https://www.imdb.com//name/nm0868219/awards         201005            200   \n",
       "2  https://www.imdb.com//name/nm1020089/awards         160675            200   \n",
       "3  https://www.imdb.com//name/nm0818055/awards         144616            200   \n",
       "4  https://www.imdb.com//name/nm0788335/awards         154067            200   \n",
       "\n",
       "   success  error  \n",
       "0     True    NaN  \n",
       "1     True    NaN  \n",
       "2     True    NaN  \n",
       "3     True    NaN  \n",
       "4     True    NaN  "
      ]
     },
     "execution_count": 356,
     "metadata": {},
     "output_type": "execute_result"
    }
   ],
   "source": [
    "logfile.head()"
   ]
  },
  {
   "cell_type": "code",
   "execution_count": 357,
   "metadata": {},
   "outputs": [
    {
     "data": {
      "text/plain": [
       "<matplotlib.axes._subplots.AxesSubplot at 0x11a3e810>"
      ]
     },
     "execution_count": 357,
     "metadata": {},
     "output_type": "execute_result"
    },
    {
     "data": {
      "image/png": "[encoded data removed]",
      "text/plain": [
       "<Figure size 432x288 with 1 Axes>"
      ]
     },
     "metadata": {
      "needs_background": "light"
     },
     "output_type": "display_data"
    }
   ],
   "source": [
    "logfile.delta_t.plot()"
   ]
  },
  {
   "cell_type": "code",
   "execution_count": null,
   "metadata": {},
   "outputs": [],
   "source": []
  }
 ],
 "metadata": {
  "kernelspec": {
   "display_name": "Python 3",
   "language": "python",
   "name": "python3"
  },
  "language_info": {
   "codemirror_mode": {
    "name": "ipython",
    "version": 3
   },
   "file_extension": ".py",
   "mimetype": "text/x-python",
   "name": "python",
   "nbconvert_exporter": "python",
   "pygments_lexer": "ipython3",
   "version": "3.6.3"
  }
 },
 "nbformat": 4,
 "nbformat_minor": 2
}
