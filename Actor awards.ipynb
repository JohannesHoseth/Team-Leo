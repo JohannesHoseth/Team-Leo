{
 "cells": [
  {
   "cell_type": "code",
   "execution_count": 38,
   "metadata": {},
   "outputs": [],
   "source": [
    "import scraping_class\n",
    "import pandas as pd\n",
    "from bs4 import BeautifulSoup\n",
    "import requests"
   ]
  },
  {
   "cell_type": "code",
   "execution_count": 39,
   "metadata": {},
   "outputs": [],
   "source": [
    "def get_awards(actorlist):\n",
    "    \n",
    "    awards = 'awards.txt'\n",
    "    connector = scraping_class.Connector(awards)\n",
    "    \n",
    "    nom = 0\n",
    "    win = 0\n",
    "    \n",
    "    for i in actorlist:\n",
    "        url = str(i)\n",
    "        response, call_id = connector.get(url, 'awards')\n",
    "\n",
    "        html = response.text\n",
    "        soup = BeautifulSoup(html,'html.parser')\n",
    "\n",
    "        table_node = soup.find_all('table', attrs ={'class': 'awards'})\n",
    "\n",
    "        awards_data = []\n",
    "\n",
    "        for i in table_node:\n",
    "            try:\n",
    "                award_year = i.find_all('td', attrs ={'class': 'award_year'})\n",
    "                award_year =[i.find('a').text.strip('\\n') for i in award_year]\n",
    "                outcome = i.find_all('td', attrs = {'class': 'award_outcome'})\n",
    "\n",
    "                outcome = [i.text for i in outcome]\n",
    "\n",
    "                award = [i.split('\\n')[2] for i in outcome]\n",
    "                result = [i.split('\\n')[1] for i in outcome]\n",
    "\n",
    "                if award[0] == 'Oscar':\n",
    "                    awards_data.append([award_year, award, result])\n",
    "            except:\n",
    "                NameError\n",
    "\n",
    "        df = pd.DataFrame(awards_data[0]).T\n",
    "\n",
    "        df = df.assign(nom = lambda df: pd.Series.str(df[2])[0:] == 'Nominee')\n",
    "        df = df.assign(win = lambda df: pd.Series.str(df[2])[0:] == 'Winner')\n",
    "\n",
    "\n",
    "        for i in df.nom:\n",
    "            if i == True:\n",
    "                nom += 1\n",
    "\n",
    "        for i in df.win:\n",
    "            if i == True:\n",
    "                win += 1\n",
    "\n",
    "    return nom, win"
   ]
  }
 ],
 "metadata": {
  "kernelspec": {
   "display_name": "Python 3",
   "language": "python",
   "name": "python3"
  },
  "language_info": {
   "codemirror_mode": {
    "name": "ipython",
    "version": 3
   },
   "file_extension": ".py",
   "mimetype": "text/x-python",
   "name": "python",
   "nbconvert_exporter": "python",
   "pygments_lexer": "ipython3",
   "version": "3.6.3"
  }
 },
 "nbformat": 4,
 "nbformat_minor": 2
}
