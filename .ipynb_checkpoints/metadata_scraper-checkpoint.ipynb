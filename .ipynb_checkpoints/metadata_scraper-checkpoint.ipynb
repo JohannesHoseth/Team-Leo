{
 "cells": [
  {
   "cell_type": "code",
   "execution_count": 1,
   "metadata": {},
   "outputs": [],
   "source": [
    "import requests\n",
    "import pandas as pd\n",
    "import numpy as np\n",
    "import matplotlib.pyplot as plt\n",
    "import scraping_class\n",
    "from matplotlib.dates import DateFormatter\n",
    "import seaborn as sns\n",
    "from bs4 import BeautifulSoup"
   ]
  },
  {
   "cell_type": "code",
   "execution_count": null,
   "metadata": {},
   "outputs": [],
   "source": [
    "def get_metadata(movie_url):\n",
    "    \n",
    "    #connector = scraping_class.Connector(logfile)\n",
    "\n",
    "    #response, call_id = connector.get(movie_url, 'get_metadata')\n",
    "    response = requests.get(movie_url, headers={\"Accept-Language\":\"en-US, en;q=0.5\"})\n",
    "\n",
    "    if response.ok:\n",
    "    \n",
    "        soup = BeautifulSoup(response.text,'html.parser')\n",
    "        movie = soup.find_all('div',attrs={'class':'txt-block'})\n",
    "        metadata = {}\n",
    "        number = 0\n",
    "        for i in movie:\n",
    "            try:\n",
    "                lookup = ['country', 'language', 'release date', 'color', 'aspect ratio']\n",
    "                valuelist = ['budget', 'cumulative worldwide gross', 'aspect ratio']\n",
    "                \n",
    "                headline = i.find('h4').text.lower()#.split(':')[0]\n",
    "                \n",
    "                if headline in lookup:\n",
    "                    link_values = i.find('a').text\n",
    "                    \n",
    "                    if link_values != 'See more':\n",
    "                        metadata[headline] = link_values\n",
    "                    \n",
    "                txtblock = i.text\n",
    "                \n",
    "                data = txtblock.split(':')[0].strip().lower()\n",
    "                values = txtblock.split(':')[1].split('$')[1].strip().lower()\n",
    "                \n",
    "                #print(headline, txtblock)\n",
    "                \n",
    "                if data in valuelist:\n",
    "                    values = values.replace(',','')\n",
    "                    \n",
    "                    try:\n",
    "                        values = int(values.split('(')[0])\n",
    "                        metadata[data] = values\n",
    "                        \n",
    "                    except:\n",
    "                        values = int(values)\n",
    "                        metadata[data] = values\n",
    "                        \n",
    "            except:\n",
    "                NameError\n",
    "\n",
    "        return metadata\n",
    "    \n",
    "    else:\n",
    "        return response.ok"
   ]
  },
  {
   "cell_type": "code",
   "execution_count": null,
   "metadata": {},
   "outputs": [],
   "source": [
    "get_metadata(\"https://www.imdb.com/title/tt0018578/\")"
   ]
  }
 ],
 "metadata": {
  "kernelspec": {
   "display_name": "Python 3",
   "language": "python",
   "name": "python3"
  },
  "language_info": {
   "codemirror_mode": {
    "name": "ipython",
    "version": 3
   },
   "file_extension": ".py",
   "mimetype": "text/x-python",
   "name": "python",
   "nbconvert_exporter": "python",
   "pygments_lexer": "ipython3",
   "version": "3.6.3"
  }
 },
 "nbformat": 4,
 "nbformat_minor": 2
}
