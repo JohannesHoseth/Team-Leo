{
 "cells": [
  {
   "cell_type": "code",
   "execution_count": 1,
   "metadata": {},
   "outputs": [],
   "source": [
    "import scraping_class\n",
    "import requests\n",
    "import pandas as pd\n",
    "from bs4 import BeautifulSoup\n",
    "\n",
    "logfile = 'imdb_movieinfo.csv'\n",
    "connector = scraping_class.Connector(logfile)\n",
    "\n",
    "url='https://www.imdb.com/title/tt0075686/?ref_=adv_li_tt'\n",
    "response, call_id=connector.get(url, 'imdb_mov')\n",
    "response.ok\n",
    "\n",
    "movie_info=response.text"
   ]
  },
  {
   "cell_type": "code",
   "execution_count": 2,
   "metadata": {},
   "outputs": [],
   "source": [
    "\n",
    "movie_soup = BeautifulSoup(movie_info,'html.parser')"
   ]
  },
  {
   "cell_type": "code",
   "execution_count": 3,
   "metadata": {
    "scrolled": false
   },
   "outputs": [],
   "source": [
    "table_cast=movie_soup.find('table', attrs={'class':'cast_list'})"
   ]
  },
  {
   "cell_type": "code",
   "execution_count": 4,
   "metadata": {},
   "outputs": [],
   "source": [
    "\n",
    "list_cast=[]\n",
    "\n",
    "for i in table_cast.find_all('a'):\n",
    "    try:\n",
    "        split=str(i).split('href=\"/')[1]\n",
    "        if split[:4]=='name':\n",
    "            \n",
    "            if split[-6:]!='/></a>':\n",
    "                 list_cast.append(i.text.strip())       \n",
    "    except:\n",
    "        NameError"
   ]
  },
  {
   "cell_type": "code",
   "execution_count": 7,
   "metadata": {
    "scrolled": true
   },
   "outputs": [],
   "source": [
    "\n",
    "castpd=pd.DataFrame(list_cast)\n",
    "castpd.columns = ['Main Cast']"
   ]
  },
  {
   "cell_type": "code",
   "execution_count": 9,
   "metadata": {
    "scrolled": true
   },
   "outputs": [],
   "source": [
    "releasebudget=movie_soup.find_all('div',attrs={'class':'txt-block'})\n",
    "\n",
    "metadata=[]\n",
    "for i in releasebudget:\n",
    "    try: \n",
    "        inf=i.text.strip()\n",
    "        #print(inf[0:50])\n",
    "        if inf[0:8]=='Country:':\n",
    "            country=inf.split('\\n')[1]\n",
    "        elif inf[0:8]=='Language':\n",
    "            lang=inf.split('\\n')[1]\n",
    "        elif inf[0:7]=='Release':\n",
    "            reldate=inf.split(': ')[1].split(' (')[0]\n",
    "        elif inf[0:6]=='Budget':\n",
    "            budget=inf.split(':')[1].split('\\n')[0]\n",
    "        elif inf[0:5]=='Color':\n",
    "            color=inf.split('\\n')[1]\n",
    "        elif inf[0:6]=='Aspect':\n",
    "            aspratio=inf.split(': ')[1:3]\n",
    "            aspratio=aspratio[0]+':'+aspratio[1]\n",
    "            \n",
    "        else:\n",
    "            country=np.nan\n",
    "            lang=np.nan\n",
    "            reldate=np.nan\n",
    "            budget=np.nan\n",
    "            color=np.nan\n",
    "            aspratio=np.nan\n",
    "    except:\n",
    "        NameError\n",
    "        \n",
    "metadata.append([country,lang,reldate,budget,color,aspratio])\n",
    "        \n",
    "\n",
    "\n"
   ]
  },
  {
   "cell_type": "code",
   "execution_count": 10,
   "metadata": {},
   "outputs": [
    {
     "data": {
      "text/plain": [
       "['USA', 'English', '29 July 1977', '$4,000,000', 'Color', '1.85 :1']"
      ]
     },
     "execution_count": 10,
     "metadata": {},
     "output_type": "execute_result"
    }
   ],
   "source": [
    "details=metadata[0]\n",
    "details"
   ]
  },
  {
   "cell_type": "code",
   "execution_count": null,
   "metadata": {},
   "outputs": [],
   "source": []
  }
 ],
 "metadata": {
  "kernelspec": {
   "display_name": "Python 3",
   "language": "python",
   "name": "python3"
  },
  "language_info": {
   "codemirror_mode": {
    "name": "ipython",
    "version": 3
   },
   "file_extension": ".py",
   "mimetype": "text/x-python",
   "name": "python",
   "nbconvert_exporter": "python",
   "pygments_lexer": "ipython3",
   "version": "3.6.3"
  }
 },
 "nbformat": 4,
 "nbformat_minor": 2
}
