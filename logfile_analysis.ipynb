{
 "cells": [
  {
   "cell_type": "code",
   "execution_count": 2,
   "metadata": {},
   "outputs": [],
   "source": [
    "import pandas as pd\n",
    "import numpy as np\n",
    "import matplotlib.pyplot as plt\n",
    "import scraping_class\n",
    "import seaborn as sns"
   ]
  },
  {
   "cell_type": "code",
   "execution_count": 5,
   "metadata": {},
   "outputs": [],
   "source": [
    "log = pd.read_csv('oscar_winners_log.csv', columns=[])"
   ]
  },
  {
   "cell_type": "code",
   "execution_count": 6,
   "metadata": {},
   "outputs": [
    {
     "data": {
      "text/html": [
       "<div>\n",
       "<style scoped>\n",
       "    .dataframe tbody tr th:only-of-type {\n",
       "        vertical-align: middle;\n",
       "    }\n",
       "\n",
       "    .dataframe tbody tr th {\n",
       "        vertical-align: top;\n",
       "    }\n",
       "\n",
       "    .dataframe thead th {\n",
       "        text-align: right;\n",
       "    }\n",
       "</style>\n",
       "<table border=\"1\" class=\"dataframe\">\n",
       "  <thead>\n",
       "    <tr style=\"text-align: right;\">\n",
       "      <th></th>\n",
       "      <th>348;get_winners;requests;1566564601.0629468;-0.8758697509765625;https://www.imdb.com/search/title/?count=100&amp;groups=oscar_best_picture_winners&amp;sort=year</th>\n",
       "      <th>desc&amp;start=1&amp;ref_=nv_ch_osc;https://www.imdb.com/search/title/?count=100&amp;groups=oscar_best_picture_winners&amp;sort=year</th>\n",
       "      <th>desc&amp;start=1&amp;ref_=nv_ch_osc;514335;200;True;</th>\n",
       "    </tr>\n",
       "  </thead>\n",
       "  <tbody>\n",
       "    <tr>\n",
       "      <th>0</th>\n",
       "      <td>4;get_winners;requests;1566566724.2980373;-1.0...</td>\n",
       "      <td>desc&amp;start=1&amp;ref_=nv_ch_osc;https://www.imdb.c...</td>\n",
       "      <td>desc&amp;start=1&amp;ref_=nv_ch_osc;514335;200;True;</td>\n",
       "    </tr>\n",
       "    <tr>\n",
       "      <th>1</th>\n",
       "      <td>5;get_winners;requests;1566567989.358874;-0.95...</td>\n",
       "      <td>desc&amp;start=1&amp;ref_=nv_ch_osc;https://www.imdb.c...</td>\n",
       "      <td>desc&amp;start=1&amp;ref_=nv_ch_osc;514335;200;True;</td>\n",
       "    </tr>\n",
       "    <tr>\n",
       "      <th>2</th>\n",
       "      <td>6;get_winners;requests;1566568099.411181;-1.13...</td>\n",
       "      <td>desc&amp;start=1&amp;ref_=nv_ch_osc;https://www.imdb.c...</td>\n",
       "      <td>desc&amp;start=1&amp;ref_=nv_ch_osc;514335;200;True;</td>\n",
       "    </tr>\n",
       "    <tr>\n",
       "      <th>3</th>\n",
       "      <td>7;get_winners;requests;1566568275.0021276;-1.0...</td>\n",
       "      <td>desc&amp;start=1&amp;ref_=nv_ch_osc;https://www.imdb.c...</td>\n",
       "      <td>desc&amp;start=1&amp;ref_=nv_ch_osc;514335;200;True;</td>\n",
       "    </tr>\n",
       "    <tr>\n",
       "      <th>4</th>\n",
       "      <td>8;get_winners;requests;1566583183.3838663;-2.1...</td>\n",
       "      <td>desc&amp;start=1&amp;ref_=nv_ch_osc;https://www.imdb.c...</td>\n",
       "      <td>desc&amp;start=1&amp;ref_=nv_ch_osc;514338;200;True;</td>\n",
       "    </tr>\n",
       "  </tbody>\n",
       "</table>\n",
       "</div>"
      ],
      "text/plain": [
       "  348;get_winners;requests;1566564601.0629468;-0.8758697509765625;https://www.imdb.com/search/title/?count=100&groups=oscar_best_picture_winners&sort=year  \\\n",
       "0  4;get_winners;requests;1566566724.2980373;-1.0...                                                                                                         \n",
       "1  5;get_winners;requests;1566567989.358874;-0.95...                                                                                                         \n",
       "2  6;get_winners;requests;1566568099.411181;-1.13...                                                                                                         \n",
       "3  7;get_winners;requests;1566568275.0021276;-1.0...                                                                                                         \n",
       "4  8;get_winners;requests;1566583183.3838663;-2.1...                                                                                                         \n",
       "\n",
       "  desc&start=1&ref_=nv_ch_osc;https://www.imdb.com/search/title/?count=100&groups=oscar_best_picture_winners&sort=year  \\\n",
       "0  desc&start=1&ref_=nv_ch_osc;https://www.imdb.c...                                                                     \n",
       "1  desc&start=1&ref_=nv_ch_osc;https://www.imdb.c...                                                                     \n",
       "2  desc&start=1&ref_=nv_ch_osc;https://www.imdb.c...                                                                     \n",
       "3  desc&start=1&ref_=nv_ch_osc;https://www.imdb.c...                                                                     \n",
       "4  desc&start=1&ref_=nv_ch_osc;https://www.imdb.c...                                                                     \n",
       "\n",
       "   desc&start=1&ref_=nv_ch_osc;514335;200;True;  \n",
       "0  desc&start=1&ref_=nv_ch_osc;514335;200;True;  \n",
       "1  desc&start=1&ref_=nv_ch_osc;514335;200;True;  \n",
       "2  desc&start=1&ref_=nv_ch_osc;514335;200;True;  \n",
       "3  desc&start=1&ref_=nv_ch_osc;514335;200;True;  \n",
       "4  desc&start=1&ref_=nv_ch_osc;514338;200;True;  "
      ]
     },
     "execution_count": 6,
     "metadata": {},
     "output_type": "execute_result"
    }
   ],
   "source": [
    "log.head()"
   ]
  }
 ],
 "metadata": {
  "kernelspec": {
   "display_name": "Python 3",
   "language": "python",
   "name": "python3"
  },
  "language_info": {
   "codemirror_mode": {
    "name": "ipython",
    "version": 3
   },
   "file_extension": ".py",
   "mimetype": "text/x-python",
   "name": "python",
   "nbconvert_exporter": "python",
   "pygments_lexer": "ipython3",
   "version": "3.6.3"
  }
 },
 "nbformat": 4,
 "nbformat_minor": 2
}
